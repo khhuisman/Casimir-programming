{
 "cells": [
  {
   "cell_type": "code",
   "execution_count": 21,
   "id": "2b5ed144-aadd-4a9c-a195-91b36e1ac9b1",
   "metadata": {
    "tags": []
   },
   "outputs": [],
   "source": [
    "## “Thank you to arXiv for use of its open access interoperability.”"
   ]
  },
  {
   "cell_type": "code",
   "execution_count": 158,
   "id": "1d507d25-5c7a-41d3-9ec5-e82b8bdcaf83",
   "metadata": {
    "tags": []
   },
   "outputs": [],
   "source": [
    "from bs4 import BeautifulSoup\n",
    "import urllib, urllib.request\n",
    "import re\n",
    "import numpy as np"
   ]
  },
  {
   "cell_type": "code",
   "execution_count": 165,
   "id": "5c33d39a-d205-4085-8a18-5ed9b0e0581f",
   "metadata": {
    "tags": []
   },
   "outputs": [
    {
     "name": "stdout",
     "output_type": "stream",
     "text": [
      "<class 'http.client.HTTPResponse'>\n"
     ]
    }
   ],
   "source": [
    "\n",
    "url = 'http://export.arxiv.org/api/query?search_query=au:del_maestro'\n",
    "data = urllib.request.urlopen(url)\n",
    "# print(data.read().decode('utf-8'))\n",
    "titles = BeautifulSoup(data, 'html.parser').find_all('title')\n",
    "print(type(data))"
   ]
  },
  {
   "cell_type": "code",
   "execution_count": 176,
   "id": "0244a934-60f8-48f5-b78c-b1064beb27cd",
   "metadata": {
    "tags": []
   },
   "outputs": [],
   "source": [
    "trivial_words_list_default = ['and','a','the','','of','in','on','it','after','for','ever','never','since','at','to','too']\n",
    "\n",
    "def filter_out_non_trivial_words(wordlist,trivial_words_list=trivial_words_list_default):\n",
    "    '''\n",
    "    \n",
    "    Function that removes trivial words from a list of words. \n",
    "    \n",
    "    Input:\n",
    "    wordlist            = list of strings, may be lowercase or uppercase \n",
    "    trivial_words_list  = list of strings that should be removed from input \"wordlist\"\n",
    "    Ouput:\n",
    "    wordlist_nontrivial = list of strings where trivial words are removed.\n",
    "    '''\n",
    "    \n",
    "    wordlist_nontrivial = []\n",
    "    \n",
    "    ## conver input words to lowercase\n",
    "    wordlist_lower = [ element.lower() for element in wordlist]\n",
    "    \n",
    "    for i in range(len(wordlist_lower)):\n",
    "        word =  wordlist_lower[i]\n",
    "\n",
    "        ## check if word is a trivial word\n",
    "        if word not in trivial_words_list:\n",
    "            wordlist_nontrivial.append(wordlist[i])\n",
    "\n",
    "    return wordlist_nontrivial"
   ]
  },
  {
   "cell_type": "code",
   "execution_count": 177,
   "id": "de07f7a6-7f11-4d73-b577-a91d7e0af08f",
   "metadata": {
    "tags": []
   },
   "outputs": [
    {
     "name": "stdout",
     "output_type": "stream",
     "text": [
      "['A', 'Luttinger', 'Liquid', 'Core', 'Inside', 'Helium-4', 'Filled', 'Nanopores']\n",
      "['Thermal', 'melting', 'of', 'density', 'waves', 'on', 'the', 'square', 'lattice']\n",
      "['From', 'stripe', 'to', 'checkerboard', 'order', 'on', 'the', 'square', 'lattice', 'in', 'the', 'presence\\n', '', 'of', 'quenched', 'disorder']\n",
      "['Interacting', 'bosons', 'in', 'one', 'dimension', 'and', 'Luttinger', 'liquid', 'theory']\n",
      "['Local', 'Superfluidity', 'at', 'the', 'Nanoscale']\n",
      "['Quantum', 'Monte', 'Carlo', 'measurement', 'of', 'the', 'chemical', 'potential', 'of', 'helium-4']\n",
      "['Particle', 'partition', 'entanglement', 'of', 'bosonic', 'Luttinger', 'liquids']\n",
      "['Absence', 'of', 'superfluidity', 'in', 'a', 'quasi', 'one-dimensional', 'parahydrogen', 'fluid\\n', '', 'adsorbed', 'inside', 'carbon', 'nanotubes']\n",
      "['Dissipation', 'in', 'mesoscale', 'superfluids']\n",
      "['Equivalence', 'of', 'Spatial', 'and', 'Particle', 'Entanglement', 'Growth', 'After', 'a', 'Quantum\\n', '', 'Quench']\n"
     ]
    }
   ],
   "source": [
    "### Code converts the titles of input data to a list of strings\n",
    "\n",
    "splitted_strings_list = []\n",
    "\n",
    "for i in range(len(titles)):\n",
    "    title = titles[i]\n",
    "    # print(title)\n",
    "    if i > 0:\n",
    "        # print(title.string)\n",
    "        string_splitted = re.split(' ', title.string)\n",
    "        splitted_strings_list.append(string_splitted)\n",
    "        print(string_splitted)\n",
    "        \n"
   ]
  },
  {
   "cell_type": "code",
   "execution_count": 178,
   "id": "0810aa00-d6f2-4564-a2b1-6f5ca2f1f7bb",
   "metadata": {
    "tags": []
   },
   "outputs": [
    {
     "name": "stdout",
     "output_type": "stream",
     "text": [
      "['Luttinger', 'Liquid', 'Core', 'Inside', 'Helium-4', 'Filled', 'Nanopores']\n",
      "['Thermal', 'melting', 'density', 'waves', 'square', 'lattice']\n",
      "['From', 'stripe', 'checkerboard', 'order', 'square', 'lattice', 'presence\\n', 'quenched', 'disorder']\n",
      "['Interacting', 'bosons', 'one', 'dimension', 'Luttinger', 'liquid', 'theory']\n",
      "['Local', 'Superfluidity', 'Nanoscale']\n",
      "['Quantum', 'Monte', 'Carlo', 'measurement', 'chemical', 'potential', 'helium-4']\n",
      "['Particle', 'partition', 'entanglement', 'bosonic', 'Luttinger', 'liquids']\n",
      "['Absence', 'superfluidity', 'quasi', 'one-dimensional', 'parahydrogen', 'fluid\\n', 'adsorbed', 'inside', 'carbon', 'nanotubes']\n",
      "['Dissipation', 'mesoscale', 'superfluids']\n",
      "['Equivalence', 'Spatial', 'Particle', 'Entanglement', 'Growth', 'Quantum\\n', 'Quench']\n"
     ]
    }
   ],
   "source": [
    "### For every paper, filter trivial words from the title\n",
    "\n",
    "wordlist_nontrivial_papers = []\n",
    "\n",
    "for index_paper in range(len(splitted_strings_list)):\n",
    "    wordlist = splitted_strings_list[index_paper]\n",
    "    wordlist_nontrivial = filter_out_non_trivial_words(wordlist,trivial_words_list=trivial_words_list_default)\n",
    "    \n",
    "    print(wordlist_nontrivial)\n",
    "    wordlist_nontrivial_papers.append(wordlist_nontrivial)"
   ]
  },
  {
   "cell_type": "code",
   "execution_count": null,
   "id": "34f5c0a8-eb37-465e-9e02-8ea1b8e8b9bf",
   "metadata": {},
   "outputs": [],
   "source": []
  }
 ],
 "metadata": {
  "kernelspec": {
   "display_name": "Python 3 (ipykernel)",
   "language": "python",
   "name": "python3"
  },
  "language_info": {
   "codemirror_mode": {
    "name": "ipython",
    "version": 3
   },
   "file_extension": ".py",
   "mimetype": "text/x-python",
   "name": "python",
   "nbconvert_exporter": "python",
   "pygments_lexer": "ipython3",
   "version": "3.10.8"
  }
 },
 "nbformat": 4,
 "nbformat_minor": 5
}
